{
 "cells": [
  {
   "cell_type": "code",
   "execution_count": 210,
   "id": "7ef91ad5",
   "metadata": {
    "ExecuteTime": {
     "end_time": "2022-04-05T11:28:48.547371Z",
     "start_time": "2022-04-05T11:28:48.533379Z"
    }
   },
   "outputs": [],
   "source": [
    "import numpy as np\n",
    "import pandas as pd\n",
    "import matplotlib.pyplot as plt\n",
    "%matplotlib inline"
   ]
  },
  {
   "cell_type": "code",
   "execution_count": 211,
   "id": "55735443",
   "metadata": {
    "ExecuteTime": {
     "end_time": "2022-04-05T11:28:50.401139Z",
     "start_time": "2022-04-05T11:28:50.289297Z"
    }
   },
   "outputs": [],
   "source": [
    "df = pd.read_csv('Time_series_analysis_and_forecast_DATASET.csv')"
   ]
  },
  {
   "cell_type": "code",
   "execution_count": 212,
   "id": "a8830363",
   "metadata": {
    "ExecuteTime": {
     "end_time": "2022-04-05T11:28:55.360391Z",
     "start_time": "2022-04-05T11:28:55.335457Z"
    }
   },
   "outputs": [
    {
     "data": {
      "text/html": [
       "<div>\n",
       "<style scoped>\n",
       "    .dataframe tbody tr th:only-of-type {\n",
       "        vertical-align: middle;\n",
       "    }\n",
       "\n",
       "    .dataframe tbody tr th {\n",
       "        vertical-align: top;\n",
       "    }\n",
       "\n",
       "    .dataframe thead th {\n",
       "        text-align: right;\n",
       "    }\n",
       "</style>\n",
       "<table border=\"1\" class=\"dataframe\">\n",
       "  <thead>\n",
       "    <tr style=\"text-align: right;\">\n",
       "      <th></th>\n",
       "      <th>FullDate</th>\n",
       "      <th>Tmax</th>\n",
       "      <th>SysLoad</th>\n",
       "      <th>GasPrice</th>\n",
       "      <th>ElecPrice</th>\n",
       "    </tr>\n",
       "  </thead>\n",
       "  <tbody>\n",
       "    <tr>\n",
       "      <th>0</th>\n",
       "      <td>2010-09-01 00:00:00</td>\n",
       "      <td>15.8</td>\n",
       "      <td>1688.215</td>\n",
       "      <td>3.69</td>\n",
       "      <td>23.710</td>\n",
       "    </tr>\n",
       "    <tr>\n",
       "      <th>1</th>\n",
       "      <td>2010-09-01 01:00:00</td>\n",
       "      <td>15.8</td>\n",
       "      <td>1669.195</td>\n",
       "      <td>3.69</td>\n",
       "      <td>22.635</td>\n",
       "    </tr>\n",
       "    <tr>\n",
       "      <th>2</th>\n",
       "      <td>2010-09-01 02:00:00</td>\n",
       "      <td>15.8</td>\n",
       "      <td>1491.980</td>\n",
       "      <td>3.69</td>\n",
       "      <td>22.565</td>\n",
       "    </tr>\n",
       "    <tr>\n",
       "      <th>3</th>\n",
       "      <td>2010-09-01 03:00:00</td>\n",
       "      <td>15.8</td>\n",
       "      <td>1330.760</td>\n",
       "      <td>3.69</td>\n",
       "      <td>18.910</td>\n",
       "    </tr>\n",
       "    <tr>\n",
       "      <th>4</th>\n",
       "      <td>2010-09-01 04:00:00</td>\n",
       "      <td>15.8</td>\n",
       "      <td>1247.940</td>\n",
       "      <td>3.69</td>\n",
       "      <td>18.030</td>\n",
       "    </tr>\n",
       "  </tbody>\n",
       "</table>\n",
       "</div>"
      ],
      "text/plain": [
       "              FullDate  Tmax   SysLoad  GasPrice  ElecPrice\n",
       "0  2010-09-01 00:00:00  15.8  1688.215      3.69     23.710\n",
       "1  2010-09-01 01:00:00  15.8  1669.195      3.69     22.635\n",
       "2  2010-09-01 02:00:00  15.8  1491.980      3.69     22.565\n",
       "3  2010-09-01 03:00:00  15.8  1330.760      3.69     18.910\n",
       "4  2010-09-01 04:00:00  15.8  1247.940      3.69     18.030"
      ]
     },
     "execution_count": 212,
     "metadata": {},
     "output_type": "execute_result"
    }
   ],
   "source": [
    "df.head()"
   ]
  },
  {
   "cell_type": "code",
   "execution_count": 214,
   "id": "72d02f27",
   "metadata": {
    "ExecuteTime": {
     "end_time": "2022-04-05T11:29:35.054097Z",
     "start_time": "2022-04-05T11:29:34.908486Z"
    }
   },
   "outputs": [
    {
     "data": {
      "text/plain": [
       "[<matplotlib.lines.Line2D at 0x1b2121a4730>]"
      ]
     },
     "execution_count": 214,
     "metadata": {},
     "output_type": "execute_result"
    },
    {
     "data": {
      "image/png": "[encoded data removed]",
      "text/plain": [
       "<Figure size 432x288 with 1 Axes>"
      ]
     },
     "metadata": {
      "needs_background": "light"
     },
     "output_type": "display_data"
    }
   ],
   "source": [
    "plt.plot(df[\"ElecPrice\"])"
   ]
  },
  {
   "cell_type": "code",
   "execution_count": 150,
   "id": "4979144f",
   "metadata": {
    "ExecuteTime": {
     "end_time": "2022-04-05T10:23:24.588711Z",
     "start_time": "2022-04-05T10:23:24.576742Z"
    }
   },
   "outputs": [
    {
     "data": {
      "text/plain": [
       "(92016, 5)"
      ]
     },
     "execution_count": 150,
     "metadata": {},
     "output_type": "execute_result"
    }
   ],
   "source": [
    "df.shape"
   ]
  },
  {
   "cell_type": "code",
   "execution_count": 151,
   "id": "8c24fe3e",
   "metadata": {
    "ExecuteTime": {
     "end_time": "2022-04-05T10:23:26.160370Z",
     "start_time": "2022-04-05T10:23:26.122503Z"
    }
   },
   "outputs": [
    {
     "data": {
      "text/plain": [
       "FullDate     0\n",
       "Tmax         0\n",
       "SysLoad      0\n",
       "GasPrice     0\n",
       "ElecPrice    0\n",
       "dtype: int64"
      ]
     },
     "execution_count": 151,
     "metadata": {},
     "output_type": "execute_result"
    }
   ],
   "source": [
    "df.isna().sum()"
   ]
  },
  {
   "cell_type": "code",
   "execution_count": 152,
   "id": "92314088",
   "metadata": {
    "ExecuteTime": {
     "end_time": "2022-04-05T10:23:27.125211Z",
     "start_time": "2022-04-05T10:23:27.115318Z"
    }
   },
   "outputs": [
    {
     "data": {
      "text/plain": [
       "dtype('O')"
      ]
     },
     "execution_count": 152,
     "metadata": {},
     "output_type": "execute_result"
    }
   ],
   "source": [
    "df.FullDate.dtype"
   ]
  },
  {
   "cell_type": "code",
   "execution_count": 153,
   "id": "b329c033",
   "metadata": {
    "ExecuteTime": {
     "end_time": "2022-04-05T10:23:31.450073Z",
     "start_time": "2022-04-05T10:23:31.356323Z"
    }
   },
   "outputs": [],
   "source": [
    "#convert the FullDate column to DateTime\n",
    "df[\"FullDate\"] = pd.to_datetime(df[\"FullDate\"])"
   ]
  },
  {
   "cell_type": "code",
   "execution_count": 154,
   "id": "6092f5b7",
   "metadata": {
    "ExecuteTime": {
     "end_time": "2022-04-05T10:23:33.318148Z",
     "start_time": "2022-04-05T10:23:33.299679Z"
    }
   },
   "outputs": [
    {
     "data": {
      "text/plain": [
       "dtype('<M8[ns]')"
      ]
     },
     "execution_count": 154,
     "metadata": {},
     "output_type": "execute_result"
    }
   ],
   "source": [
    "df.FullDate.dtype"
   ]
  },
  {
   "cell_type": "code",
   "execution_count": 155,
   "id": "6a632f83",
   "metadata": {
    "ExecuteTime": {
     "end_time": "2022-04-05T10:23:34.638176Z",
     "start_time": "2022-04-05T10:23:34.618229Z"
    }
   },
   "outputs": [
    {
     "data": {
      "text/html": [
       "<div>\n",
       "<style scoped>\n",
       "    .dataframe tbody tr th:only-of-type {\n",
       "        vertical-align: middle;\n",
       "    }\n",
       "\n",
       "    .dataframe tbody tr th {\n",
       "        vertical-align: top;\n",
       "    }\n",
       "\n",
       "    .dataframe thead th {\n",
       "        text-align: right;\n",
       "    }\n",
       "</style>\n",
       "<table border=\"1\" class=\"dataframe\">\n",
       "  <thead>\n",
       "    <tr style=\"text-align: right;\">\n",
       "      <th></th>\n",
       "      <th>FullDate</th>\n",
       "      <th>Tmax</th>\n",
       "      <th>SysLoad</th>\n",
       "      <th>GasPrice</th>\n",
       "      <th>ElecPrice</th>\n",
       "    </tr>\n",
       "  </thead>\n",
       "  <tbody>\n",
       "    <tr>\n",
       "      <th>0</th>\n",
       "      <td>2010-09-01 00:00:00</td>\n",
       "      <td>15.8</td>\n",
       "      <td>1688.215</td>\n",
       "      <td>3.69</td>\n",
       "      <td>23.710</td>\n",
       "    </tr>\n",
       "    <tr>\n",
       "      <th>1</th>\n",
       "      <td>2010-09-01 01:00:00</td>\n",
       "      <td>15.8</td>\n",
       "      <td>1669.195</td>\n",
       "      <td>3.69</td>\n",
       "      <td>22.635</td>\n",
       "    </tr>\n",
       "    <tr>\n",
       "      <th>2</th>\n",
       "      <td>2010-09-01 02:00:00</td>\n",
       "      <td>15.8</td>\n",
       "      <td>1491.980</td>\n",
       "      <td>3.69</td>\n",
       "      <td>22.565</td>\n",
       "    </tr>\n",
       "    <tr>\n",
       "      <th>3</th>\n",
       "      <td>2010-09-01 03:00:00</td>\n",
       "      <td>15.8</td>\n",
       "      <td>1330.760</td>\n",
       "      <td>3.69</td>\n",
       "      <td>18.910</td>\n",
       "    </tr>\n",
       "    <tr>\n",
       "      <th>4</th>\n",
       "      <td>2010-09-01 04:00:00</td>\n",
       "      <td>15.8</td>\n",
       "      <td>1247.940</td>\n",
       "      <td>3.69</td>\n",
       "      <td>18.030</td>\n",
       "    </tr>\n",
       "  </tbody>\n",
       "</table>\n",
       "</div>"
      ],
      "text/plain": [
       "             FullDate  Tmax   SysLoad  GasPrice  ElecPrice\n",
       "0 2010-09-01 00:00:00  15.8  1688.215      3.69     23.710\n",
       "1 2010-09-01 01:00:00  15.8  1669.195      3.69     22.635\n",
       "2 2010-09-01 02:00:00  15.8  1491.980      3.69     22.565\n",
       "3 2010-09-01 03:00:00  15.8  1330.760      3.69     18.910\n",
       "4 2010-09-01 04:00:00  15.8  1247.940      3.69     18.030"
      ]
     },
     "execution_count": 155,
     "metadata": {},
     "output_type": "execute_result"
    }
   ],
   "source": [
    "df.head()"
   ]
  },
  {
   "cell_type": "code",
   "execution_count": 156,
   "id": "0a3e20ae",
   "metadata": {
    "ExecuteTime": {
     "end_time": "2022-04-05T10:23:44.545540Z",
     "start_time": "2022-04-05T10:23:44.527586Z"
    }
   },
   "outputs": [],
   "source": [
    "#df.set_index('FullDate', inplace = True)"
   ]
  },
  {
   "cell_type": "code",
   "execution_count": 157,
   "id": "1e0a6a36",
   "metadata": {
    "ExecuteTime": {
     "end_time": "2022-04-05T10:23:45.635953Z",
     "start_time": "2022-04-05T10:23:45.609156Z"
    }
   },
   "outputs": [
    {
     "name": "stdout",
     "output_type": "stream",
     "text": [
      "<class 'pandas.core.frame.DataFrame'>\n",
      "RangeIndex: 92016 entries, 0 to 92015\n",
      "Data columns (total 5 columns):\n",
      " #   Column     Non-Null Count  Dtype         \n",
      "---  ------     --------------  -----         \n",
      " 0   FullDate   92016 non-null  datetime64[ns]\n",
      " 1   Tmax       92016 non-null  float64       \n",
      " 2   SysLoad    92016 non-null  float64       \n",
      " 3   GasPrice   92016 non-null  float64       \n",
      " 4   ElecPrice  92016 non-null  float64       \n",
      "dtypes: datetime64[ns](1), float64(4)\n",
      "memory usage: 3.5 MB\n"
     ]
    }
   ],
   "source": [
    "df.info()"
   ]
  },
  {
   "cell_type": "code",
   "execution_count": 162,
   "id": "9d689601",
   "metadata": {
    "ExecuteTime": {
     "end_time": "2022-04-05T10:24:34.769697Z",
     "start_time": "2022-04-05T10:24:34.747302Z"
    }
   },
   "outputs": [
    {
     "data": {
      "text/html": [
       "<div>\n",
       "<style scoped>\n",
       "    .dataframe tbody tr th:only-of-type {\n",
       "        vertical-align: middle;\n",
       "    }\n",
       "\n",
       "    .dataframe tbody tr th {\n",
       "        vertical-align: top;\n",
       "    }\n",
       "\n",
       "    .dataframe thead th {\n",
       "        text-align: right;\n",
       "    }\n",
       "</style>\n",
       "<table border=\"1\" class=\"dataframe\">\n",
       "  <thead>\n",
       "    <tr style=\"text-align: right;\">\n",
       "      <th></th>\n",
       "      <th>FullDate</th>\n",
       "      <th>ElecPrice</th>\n",
       "    </tr>\n",
       "  </thead>\n",
       "  <tbody>\n",
       "    <tr>\n",
       "      <th>0</th>\n",
       "      <td>2010-09-01 00:00:00</td>\n",
       "      <td>23.710</td>\n",
       "    </tr>\n",
       "    <tr>\n",
       "      <th>1</th>\n",
       "      <td>2010-09-01 01:00:00</td>\n",
       "      <td>22.635</td>\n",
       "    </tr>\n",
       "    <tr>\n",
       "      <th>2</th>\n",
       "      <td>2010-09-01 02:00:00</td>\n",
       "      <td>22.565</td>\n",
       "    </tr>\n",
       "    <tr>\n",
       "      <th>3</th>\n",
       "      <td>2010-09-01 03:00:00</td>\n",
       "      <td>18.910</td>\n",
       "    </tr>\n",
       "    <tr>\n",
       "      <th>4</th>\n",
       "      <td>2010-09-01 04:00:00</td>\n",
       "      <td>18.030</td>\n",
       "    </tr>\n",
       "  </tbody>\n",
       "</table>\n",
       "</div>"
      ],
      "text/plain": [
       "             FullDate  ElecPrice\n",
       "0 2010-09-01 00:00:00     23.710\n",
       "1 2010-09-01 01:00:00     22.635\n",
       "2 2010-09-01 02:00:00     22.565\n",
       "3 2010-09-01 03:00:00     18.910\n",
       "4 2010-09-01 04:00:00     18.030"
      ]
     },
     "execution_count": 162,
     "metadata": {},
     "output_type": "execute_result"
    }
   ],
   "source": [
    "df1 = df.drop(columns=['Tmax', 'SysLoad','GasPrice'])\n",
    "df1.head()"
   ]
  },
  {
   "cell_type": "code",
   "execution_count": 163,
   "id": "c83f38af",
   "metadata": {
    "ExecuteTime": {
     "end_time": "2022-04-05T10:24:35.392771Z",
     "start_time": "2022-04-05T10:24:35.379672Z"
    }
   },
   "outputs": [
    {
     "data": {
      "text/html": [
       "<div>\n",
       "<style scoped>\n",
       "    .dataframe tbody tr th:only-of-type {\n",
       "        vertical-align: middle;\n",
       "    }\n",
       "\n",
       "    .dataframe tbody tr th {\n",
       "        vertical-align: top;\n",
       "    }\n",
       "\n",
       "    .dataframe thead th {\n",
       "        text-align: right;\n",
       "    }\n",
       "</style>\n",
       "<table border=\"1\" class=\"dataframe\">\n",
       "  <thead>\n",
       "    <tr style=\"text-align: right;\">\n",
       "      <th></th>\n",
       "      <th>FullDate</th>\n",
       "      <th>ElecPrice</th>\n",
       "    </tr>\n",
       "  </thead>\n",
       "  <tbody>\n",
       "    <tr>\n",
       "      <th>0</th>\n",
       "      <td>2010-09-01 00:00:00</td>\n",
       "      <td>23.710</td>\n",
       "    </tr>\n",
       "    <tr>\n",
       "      <th>1</th>\n",
       "      <td>2010-09-01 01:00:00</td>\n",
       "      <td>22.635</td>\n",
       "    </tr>\n",
       "    <tr>\n",
       "      <th>2</th>\n",
       "      <td>2010-09-01 02:00:00</td>\n",
       "      <td>22.565</td>\n",
       "    </tr>\n",
       "    <tr>\n",
       "      <th>3</th>\n",
       "      <td>2010-09-01 03:00:00</td>\n",
       "      <td>18.910</td>\n",
       "    </tr>\n",
       "    <tr>\n",
       "      <th>4</th>\n",
       "      <td>2010-09-01 04:00:00</td>\n",
       "      <td>18.030</td>\n",
       "    </tr>\n",
       "  </tbody>\n",
       "</table>\n",
       "</div>"
      ],
      "text/plain": [
       "             FullDate  ElecPrice\n",
       "0 2010-09-01 00:00:00     23.710\n",
       "1 2010-09-01 01:00:00     22.635\n",
       "2 2010-09-01 02:00:00     22.565\n",
       "3 2010-09-01 03:00:00     18.910\n",
       "4 2010-09-01 04:00:00     18.030"
      ]
     },
     "execution_count": 163,
     "metadata": {},
     "output_type": "execute_result"
    }
   ],
   "source": [
    "df1.head()"
   ]
  },
  {
   "cell_type": "code",
   "execution_count": 164,
   "id": "32541ed0",
   "metadata": {
    "ExecuteTime": {
     "end_time": "2022-04-05T10:24:46.032548Z",
     "start_time": "2022-04-05T10:24:46.015756Z"
    }
   },
   "outputs": [],
   "source": [
    "df1.set_index('FullDate', inplace = True)"
   ]
  },
  {
   "cell_type": "code",
   "execution_count": 215,
   "id": "9d545043",
   "metadata": {
    "ExecuteTime": {
     "end_time": "2022-04-05T11:30:37.422256Z",
     "start_time": "2022-04-05T11:30:37.410252Z"
    }
   },
   "outputs": [
    {
     "data": {
      "text/html": [
       "<div>\n",
       "<style scoped>\n",
       "    .dataframe tbody tr th:only-of-type {\n",
       "        vertical-align: middle;\n",
       "    }\n",
       "\n",
       "    .dataframe tbody tr th {\n",
       "        vertical-align: top;\n",
       "    }\n",
       "\n",
       "    .dataframe thead th {\n",
       "        text-align: right;\n",
       "    }\n",
       "</style>\n",
       "<table border=\"1\" class=\"dataframe\">\n",
       "  <thead>\n",
       "    <tr style=\"text-align: right;\">\n",
       "      <th></th>\n",
       "      <th>ElecPrice</th>\n",
       "    </tr>\n",
       "    <tr>\n",
       "      <th>FullDate</th>\n",
       "      <th></th>\n",
       "    </tr>\n",
       "  </thead>\n",
       "  <tbody>\n",
       "    <tr>\n",
       "      <th>2010-09-01 00:00:00</th>\n",
       "      <td>23.710</td>\n",
       "    </tr>\n",
       "    <tr>\n",
       "      <th>2010-09-01 01:00:00</th>\n",
       "      <td>22.635</td>\n",
       "    </tr>\n",
       "    <tr>\n",
       "      <th>2010-09-01 02:00:00</th>\n",
       "      <td>22.565</td>\n",
       "    </tr>\n",
       "    <tr>\n",
       "      <th>2010-09-01 03:00:00</th>\n",
       "      <td>18.910</td>\n",
       "    </tr>\n",
       "    <tr>\n",
       "      <th>2010-09-01 04:00:00</th>\n",
       "      <td>18.030</td>\n",
       "    </tr>\n",
       "  </tbody>\n",
       "</table>\n",
       "</div>"
      ],
      "text/plain": [
       "                     ElecPrice\n",
       "FullDate                      \n",
       "2010-09-01 00:00:00     23.710\n",
       "2010-09-01 01:00:00     22.635\n",
       "2010-09-01 02:00:00     22.565\n",
       "2010-09-01 03:00:00     18.910\n",
       "2010-09-01 04:00:00     18.030"
      ]
     },
     "execution_count": 215,
     "metadata": {},
     "output_type": "execute_result"
    }
   ],
   "source": [
    "df1.head()"
   ]
  },
  {
   "cell_type": "code",
   "execution_count": 216,
   "id": "675503c6",
   "metadata": {
    "ExecuteTime": {
     "end_time": "2022-04-05T11:30:50.898442Z",
     "start_time": "2022-04-05T11:30:50.732880Z"
    }
   },
   "outputs": [
    {
     "data": {
      "text/plain": [
       "[<matplotlib.lines.Line2D at 0x1b211fea7c0>]"
      ]
     },
     "execution_count": 216,
     "metadata": {},
     "output_type": "execute_result"
    },
    {
     "data": {
      "image/png": "[encoded data removed]",
      "text/plain": [
       "<Figure size 432x288 with 1 Axes>"
      ]
     },
     "metadata": {
      "needs_background": "light"
     },
     "output_type": "display_data"
    }
   ],
   "source": [
    "plt.plot(df1[\"ElecPrice\"])"
   ]
  },
  {
   "cell_type": "code",
   "execution_count": 220,
   "id": "58dfe2b2",
   "metadata": {
    "ExecuteTime": {
     "end_time": "2022-04-05T11:36:25.927256Z",
     "start_time": "2022-04-05T11:36:25.915318Z"
    }
   },
   "outputs": [
    {
     "data": {
      "text/html": [
       "<div>\n",
       "<style scoped>\n",
       "    .dataframe tbody tr th:only-of-type {\n",
       "        vertical-align: middle;\n",
       "    }\n",
       "\n",
       "    .dataframe tbody tr th {\n",
       "        vertical-align: top;\n",
       "    }\n",
       "\n",
       "    .dataframe thead th {\n",
       "        text-align: right;\n",
       "    }\n",
       "</style>\n",
       "<table border=\"1\" class=\"dataframe\">\n",
       "  <thead>\n",
       "    <tr style=\"text-align: right;\">\n",
       "      <th></th>\n",
       "      <th>ds</th>\n",
       "      <th>y</th>\n",
       "    </tr>\n",
       "  </thead>\n",
       "  <tbody>\n",
       "    <tr>\n",
       "      <th>0</th>\n",
       "      <td>2010-09-01</td>\n",
       "      <td>2751.700</td>\n",
       "    </tr>\n",
       "    <tr>\n",
       "      <th>1</th>\n",
       "      <td>2010-09-02</td>\n",
       "      <td>570.810</td>\n",
       "    </tr>\n",
       "    <tr>\n",
       "      <th>2</th>\n",
       "      <td>2010-09-03</td>\n",
       "      <td>504.975</td>\n",
       "    </tr>\n",
       "    <tr>\n",
       "      <th>3</th>\n",
       "      <td>2010-09-04</td>\n",
       "      <td>502.275</td>\n",
       "    </tr>\n",
       "    <tr>\n",
       "      <th>4</th>\n",
       "      <td>2010-09-05</td>\n",
       "      <td>500.555</td>\n",
       "    </tr>\n",
       "    <tr>\n",
       "      <th>...</th>\n",
       "      <td>...</td>\n",
       "      <td>...</td>\n",
       "    </tr>\n",
       "    <tr>\n",
       "      <th>3829</th>\n",
       "      <td>2021-02-24</td>\n",
       "      <td>634.770</td>\n",
       "    </tr>\n",
       "    <tr>\n",
       "      <th>3830</th>\n",
       "      <td>2021-02-25</td>\n",
       "      <td>577.515</td>\n",
       "    </tr>\n",
       "    <tr>\n",
       "      <th>3831</th>\n",
       "      <td>2021-02-26</td>\n",
       "      <td>1445.495</td>\n",
       "    </tr>\n",
       "    <tr>\n",
       "      <th>3832</th>\n",
       "      <td>2021-02-27</td>\n",
       "      <td>488.980</td>\n",
       "    </tr>\n",
       "    <tr>\n",
       "      <th>3833</th>\n",
       "      <td>2021-02-28</td>\n",
       "      <td>-98.985</td>\n",
       "    </tr>\n",
       "  </tbody>\n",
       "</table>\n",
       "<p>3834 rows × 2 columns</p>\n",
       "</div>"
      ],
      "text/plain": [
       "             ds         y\n",
       "0    2010-09-01  2751.700\n",
       "1    2010-09-02   570.810\n",
       "2    2010-09-03   504.975\n",
       "3    2010-09-04   502.275\n",
       "4    2010-09-05   500.555\n",
       "...         ...       ...\n",
       "3829 2021-02-24   634.770\n",
       "3830 2021-02-25   577.515\n",
       "3831 2021-02-26  1445.495\n",
       "3832 2021-02-27   488.980\n",
       "3833 2021-02-28   -98.985\n",
       "\n",
       "[3834 rows x 2 columns]"
      ]
     },
     "execution_count": 220,
     "metadata": {},
     "output_type": "execute_result"
    }
   ],
   "source": [
    "df1_daily"
   ]
  },
  {
   "cell_type": "code",
   "execution_count": 218,
   "id": "9595e402",
   "metadata": {
    "ExecuteTime": {
     "end_time": "2022-04-05T11:35:25.111508Z",
     "start_time": "2022-04-05T11:35:25.093547Z"
    }
   },
   "outputs": [],
   "source": [
    "#test for sationarity\n",
    "\n",
    "def stationarity_test(timeseries):\n",
    "    from statsmodels.tsa.stattools import adfuller\n",
    "    df_test = adfuller(timeseries, autolag=\"AIC\")\n",
    "    df_output = pd.Series(\n",
    "        df_test[0:4],\n",
    "        index = [\n",
    "            \"Test statistics\",\n",
    "            \"p-value\",\n",
    "            \"Number of lags used\",\n",
    "            \"Number of observations used\"\n",
    "        ]\n",
    "    )\n",
    "    \n",
    "    print(df_output)"
   ]
  },
  {
   "cell_type": "code",
   "execution_count": 221,
   "id": "63c74a27",
   "metadata": {
    "ExecuteTime": {
     "end_time": "2022-04-05T11:37:01.211081Z",
     "start_time": "2022-04-05T11:36:47.490804Z"
    }
   },
   "outputs": [
    {
     "name": "stdout",
     "output_type": "stream",
     "text": [
      "Test statistics                  -31.952976\n",
      "p-value                            0.000000\n",
      "Number of lags used               53.000000\n",
      "Number of observations used    91962.000000\n",
      "dtype: float64\n"
     ]
    }
   ],
   "source": [
    "stationarity_test(df1)"
   ]
  },
  {
   "cell_type": "code",
   "execution_count": 166,
   "id": "c40d2c4a",
   "metadata": {
    "ExecuteTime": {
     "end_time": "2022-04-05T10:25:04.228975Z",
     "start_time": "2022-04-05T10:25:04.211598Z"
    }
   },
   "outputs": [],
   "source": [
    "df1_daily = df1.resample('D').sum()"
   ]
  },
  {
   "cell_type": "code",
   "execution_count": 167,
   "id": "a6086a2b",
   "metadata": {
    "ExecuteTime": {
     "end_time": "2022-04-05T10:25:07.888851Z",
     "start_time": "2022-04-05T10:25:07.878823Z"
    }
   },
   "outputs": [
    {
     "data": {
      "text/html": [
       "<div>\n",
       "<style scoped>\n",
       "    .dataframe tbody tr th:only-of-type {\n",
       "        vertical-align: middle;\n",
       "    }\n",
       "\n",
       "    .dataframe tbody tr th {\n",
       "        vertical-align: top;\n",
       "    }\n",
       "\n",
       "    .dataframe thead th {\n",
       "        text-align: right;\n",
       "    }\n",
       "</style>\n",
       "<table border=\"1\" class=\"dataframe\">\n",
       "  <thead>\n",
       "    <tr style=\"text-align: right;\">\n",
       "      <th></th>\n",
       "      <th>ElecPrice</th>\n",
       "    </tr>\n",
       "    <tr>\n",
       "      <th>FullDate</th>\n",
       "      <th></th>\n",
       "    </tr>\n",
       "  </thead>\n",
       "  <tbody>\n",
       "    <tr>\n",
       "      <th>2010-09-01</th>\n",
       "      <td>2751.700</td>\n",
       "    </tr>\n",
       "    <tr>\n",
       "      <th>2010-09-02</th>\n",
       "      <td>570.810</td>\n",
       "    </tr>\n",
       "    <tr>\n",
       "      <th>2010-09-03</th>\n",
       "      <td>504.975</td>\n",
       "    </tr>\n",
       "    <tr>\n",
       "      <th>2010-09-04</th>\n",
       "      <td>502.275</td>\n",
       "    </tr>\n",
       "    <tr>\n",
       "      <th>2010-09-05</th>\n",
       "      <td>500.555</td>\n",
       "    </tr>\n",
       "  </tbody>\n",
       "</table>\n",
       "</div>"
      ],
      "text/plain": [
       "            ElecPrice\n",
       "FullDate             \n",
       "2010-09-01   2751.700\n",
       "2010-09-02    570.810\n",
       "2010-09-03    504.975\n",
       "2010-09-04    502.275\n",
       "2010-09-05    500.555"
      ]
     },
     "execution_count": 167,
     "metadata": {},
     "output_type": "execute_result"
    }
   ],
   "source": [
    "df1_daily.head()"
   ]
  },
  {
   "cell_type": "code",
   "execution_count": 168,
   "id": "29f51682",
   "metadata": {
    "ExecuteTime": {
     "end_time": "2022-04-05T10:25:21.804527Z",
     "start_time": "2022-04-05T10:25:21.797301Z"
    }
   },
   "outputs": [],
   "source": [
    "df1_daily = df1_daily.reset_index()"
   ]
  },
  {
   "cell_type": "code",
   "execution_count": 169,
   "id": "e11000cb",
   "metadata": {
    "ExecuteTime": {
     "end_time": "2022-04-05T10:25:34.399960Z",
     "start_time": "2022-04-05T10:25:34.384047Z"
    }
   },
   "outputs": [
    {
     "data": {
      "text/html": [
       "<div>\n",
       "<style scoped>\n",
       "    .dataframe tbody tr th:only-of-type {\n",
       "        vertical-align: middle;\n",
       "    }\n",
       "\n",
       "    .dataframe tbody tr th {\n",
       "        vertical-align: top;\n",
       "    }\n",
       "\n",
       "    .dataframe thead th {\n",
       "        text-align: right;\n",
       "    }\n",
       "</style>\n",
       "<table border=\"1\" class=\"dataframe\">\n",
       "  <thead>\n",
       "    <tr style=\"text-align: right;\">\n",
       "      <th></th>\n",
       "      <th>ds</th>\n",
       "      <th>y</th>\n",
       "    </tr>\n",
       "  </thead>\n",
       "  <tbody>\n",
       "    <tr>\n",
       "      <th>0</th>\n",
       "      <td>2010-09-01</td>\n",
       "      <td>2751.700</td>\n",
       "    </tr>\n",
       "    <tr>\n",
       "      <th>1</th>\n",
       "      <td>2010-09-02</td>\n",
       "      <td>570.810</td>\n",
       "    </tr>\n",
       "    <tr>\n",
       "      <th>2</th>\n",
       "      <td>2010-09-03</td>\n",
       "      <td>504.975</td>\n",
       "    </tr>\n",
       "    <tr>\n",
       "      <th>3</th>\n",
       "      <td>2010-09-04</td>\n",
       "      <td>502.275</td>\n",
       "    </tr>\n",
       "    <tr>\n",
       "      <th>4</th>\n",
       "      <td>2010-09-05</td>\n",
       "      <td>500.555</td>\n",
       "    </tr>\n",
       "  </tbody>\n",
       "</table>\n",
       "</div>"
      ],
      "text/plain": [
       "          ds         y\n",
       "0 2010-09-01  2751.700\n",
       "1 2010-09-02   570.810\n",
       "2 2010-09-03   504.975\n",
       "3 2010-09-04   502.275\n",
       "4 2010-09-05   500.555"
      ]
     },
     "execution_count": 169,
     "metadata": {},
     "output_type": "execute_result"
    }
   ],
   "source": [
    "df1_daily = df1_daily.rename(columns={\"FullDate\": \"ds\", \"ElecPrice\": \"y\"})\n",
    "df1_daily.head()"
   ]
  },
  {
   "cell_type": "code",
   "execution_count": 170,
   "id": "679c3563",
   "metadata": {
    "ExecuteTime": {
     "end_time": "2022-04-05T10:25:43.148796Z",
     "start_time": "2022-04-05T10:25:43.139786Z"
    }
   },
   "outputs": [
    {
     "data": {
      "text/plain": [
       "(3834, 2)"
      ]
     },
     "execution_count": 170,
     "metadata": {},
     "output_type": "execute_result"
    }
   ],
   "source": [
    "df1_daily.shape"
   ]
  },
  {
   "cell_type": "code",
   "execution_count": 171,
   "id": "b4d800b3",
   "metadata": {
    "ExecuteTime": {
     "end_time": "2022-04-05T10:25:45.191057Z",
     "start_time": "2022-04-05T10:25:45.175100Z"
    }
   },
   "outputs": [
    {
     "name": "stdout",
     "output_type": "stream",
     "text": [
      "<class 'pandas.core.frame.DataFrame'>\n",
      "RangeIndex: 3834 entries, 0 to 3833\n",
      "Data columns (total 2 columns):\n",
      " #   Column  Non-Null Count  Dtype         \n",
      "---  ------  --------------  -----         \n",
      " 0   ds      3834 non-null   datetime64[ns]\n",
      " 1   y       3834 non-null   float64       \n",
      "dtypes: datetime64[ns](1), float64(1)\n",
      "memory usage: 60.0 KB\n"
     ]
    }
   ],
   "source": [
    "df1_daily.info()"
   ]
  },
  {
   "cell_type": "code",
   "execution_count": 172,
   "id": "105bfbdb",
   "metadata": {
    "ExecuteTime": {
     "end_time": "2022-04-05T10:25:57.674808Z",
     "start_time": "2022-04-05T10:25:57.668451Z"
    }
   },
   "outputs": [],
   "source": [
    "cutoff = 2757\n",
    "\n",
    "df1_daily_train = df1_daily.iloc[:cutoff]\n",
    "df1_daily_test = df1_daily.iloc[cutoff:]"
   ]
  },
  {
   "cell_type": "code",
   "execution_count": 173,
   "id": "e0b104a3",
   "metadata": {
    "ExecuteTime": {
     "end_time": "2022-04-05T10:27:21.917523Z",
     "start_time": "2022-04-05T10:27:21.899571Z"
    }
   },
   "outputs": [
    {
     "data": {
      "text/plain": [
       "(2757, 2)"
      ]
     },
     "execution_count": 173,
     "metadata": {},
     "output_type": "execute_result"
    }
   ],
   "source": [
    "df1_daily_train.shape"
   ]
  },
  {
   "cell_type": "code",
   "execution_count": 174,
   "id": "250d3619",
   "metadata": {
    "ExecuteTime": {
     "end_time": "2022-04-05T10:27:24.200784Z",
     "start_time": "2022-04-05T10:27:24.181572Z"
    }
   },
   "outputs": [
    {
     "data": {
      "text/plain": [
       "(1077, 2)"
      ]
     },
     "execution_count": 174,
     "metadata": {},
     "output_type": "execute_result"
    }
   ],
   "source": [
    "df1_daily_test.shape"
   ]
  },
  {
   "cell_type": "code",
   "execution_count": 175,
   "id": "39612815",
   "metadata": {
    "ExecuteTime": {
     "end_time": "2022-04-05T10:27:53.472977Z",
     "start_time": "2022-04-05T10:27:47.444214Z"
    }
   },
   "outputs": [
    {
     "name": "stderr",
     "output_type": "stream",
     "text": [
      "INFO:prophet:Disabling daily seasonality. Run prophet with daily_seasonality=True to override this.\n",
      "C:\\Users\\User\\anaconda3\\lib\\site-packages\\prophet\\forecaster.py:896: FutureWarning:\n",
      "\n",
      "The frame.append method is deprecated and will be removed from pandas in a future version. Use pandas.concat instead.\n",
      "\n"
     ]
    },
    {
     "data": {
      "text/plain": [
       "<prophet.forecaster.Prophet at 0x1b211860cd0>"
      ]
     },
     "execution_count": 175,
     "metadata": {},
     "output_type": "execute_result"
    }
   ],
   "source": [
    "#Building the model\n",
    "from prophet import Prophet\n",
    "\n",
    "m = Prophet()\n",
    "m.fit(df1_daily_train)"
   ]
  },
  {
   "cell_type": "code",
   "execution_count": 115,
   "id": "2255c84c",
   "metadata": {
    "ExecuteTime": {
     "end_time": "2022-04-05T09:58:51.568706Z",
     "start_time": "2022-04-05T09:58:48.325374Z"
    }
   },
   "outputs": [
    {
     "name": "stderr",
     "output_type": "stream",
     "text": [
      "C:\\Users\\User\\anaconda3\\lib\\site-packages\\prophet\\forecaster.py:896: FutureWarning:\n",
      "\n",
      "The frame.append method is deprecated and will be removed from pandas in a future version. Use pandas.concat instead.\n",
      "\n",
      "C:\\Users\\User\\anaconda3\\lib\\site-packages\\prophet\\forecaster.py:896: FutureWarning:\n",
      "\n",
      "The frame.append method is deprecated and will be removed from pandas in a future version. Use pandas.concat instead.\n",
      "\n"
     ]
    },
    {
     "data": {
      "text/html": [
       "<div>\n",
       "<style scoped>\n",
       "    .dataframe tbody tr th:only-of-type {\n",
       "        vertical-align: middle;\n",
       "    }\n",
       "\n",
       "    .dataframe tbody tr th {\n",
       "        vertical-align: top;\n",
       "    }\n",
       "\n",
       "    .dataframe thead th {\n",
       "        text-align: right;\n",
       "    }\n",
       "</style>\n",
       "<table border=\"1\" class=\"dataframe\">\n",
       "  <thead>\n",
       "    <tr style=\"text-align: right;\">\n",
       "      <th></th>\n",
       "      <th>ds</th>\n",
       "      <th>trend</th>\n",
       "      <th>yhat_lower</th>\n",
       "      <th>yhat_upper</th>\n",
       "      <th>trend_lower</th>\n",
       "      <th>trend_upper</th>\n",
       "      <th>additive_terms</th>\n",
       "      <th>additive_terms_lower</th>\n",
       "      <th>additive_terms_upper</th>\n",
       "      <th>weekly</th>\n",
       "      <th>weekly_lower</th>\n",
       "      <th>weekly_upper</th>\n",
       "      <th>yearly</th>\n",
       "      <th>yearly_lower</th>\n",
       "      <th>yearly_upper</th>\n",
       "      <th>multiplicative_terms</th>\n",
       "      <th>multiplicative_terms_lower</th>\n",
       "      <th>multiplicative_terms_upper</th>\n",
       "      <th>yhat</th>\n",
       "    </tr>\n",
       "  </thead>\n",
       "  <tbody>\n",
       "    <tr>\n",
       "      <th>0</th>\n",
       "      <td>2010-09-01</td>\n",
       "      <td>840.062483</td>\n",
       "      <td>-1631.841082</td>\n",
       "      <td>3357.020541</td>\n",
       "      <td>840.062483</td>\n",
       "      <td>840.062483</td>\n",
       "      <td>143.884000</td>\n",
       "      <td>143.884000</td>\n",
       "      <td>143.884000</td>\n",
       "      <td>159.373437</td>\n",
       "      <td>159.373437</td>\n",
       "      <td>159.373437</td>\n",
       "      <td>-15.489437</td>\n",
       "      <td>-15.489437</td>\n",
       "      <td>-15.489437</td>\n",
       "      <td>0.0</td>\n",
       "      <td>0.0</td>\n",
       "      <td>0.0</td>\n",
       "      <td>983.946484</td>\n",
       "    </tr>\n",
       "    <tr>\n",
       "      <th>1</th>\n",
       "      <td>2010-09-02</td>\n",
       "      <td>840.040783</td>\n",
       "      <td>-1222.310861</td>\n",
       "      <td>3454.120388</td>\n",
       "      <td>840.040783</td>\n",
       "      <td>840.040783</td>\n",
       "      <td>224.272698</td>\n",
       "      <td>224.272698</td>\n",
       "      <td>224.272698</td>\n",
       "      <td>257.126848</td>\n",
       "      <td>257.126848</td>\n",
       "      <td>257.126848</td>\n",
       "      <td>-32.854150</td>\n",
       "      <td>-32.854150</td>\n",
       "      <td>-32.854150</td>\n",
       "      <td>0.0</td>\n",
       "      <td>0.0</td>\n",
       "      <td>0.0</td>\n",
       "      <td>1064.313481</td>\n",
       "    </tr>\n",
       "    <tr>\n",
       "      <th>2</th>\n",
       "      <td>2010-09-03</td>\n",
       "      <td>840.019083</td>\n",
       "      <td>-1486.393595</td>\n",
       "      <td>3424.890350</td>\n",
       "      <td>840.019083</td>\n",
       "      <td>840.019083</td>\n",
       "      <td>-0.678461</td>\n",
       "      <td>-0.678461</td>\n",
       "      <td>-0.678461</td>\n",
       "      <td>50.279546</td>\n",
       "      <td>50.279546</td>\n",
       "      <td>50.279546</td>\n",
       "      <td>-50.958007</td>\n",
       "      <td>-50.958007</td>\n",
       "      <td>-50.958007</td>\n",
       "      <td>0.0</td>\n",
       "      <td>0.0</td>\n",
       "      <td>0.0</td>\n",
       "      <td>839.340621</td>\n",
       "    </tr>\n",
       "    <tr>\n",
       "      <th>3</th>\n",
       "      <td>2010-09-04</td>\n",
       "      <td>839.997383</td>\n",
       "      <td>-1947.674673</td>\n",
       "      <td>2876.454123</td>\n",
       "      <td>839.997383</td>\n",
       "      <td>839.997383</td>\n",
       "      <td>-340.920903</td>\n",
       "      <td>-340.920903</td>\n",
       "      <td>-340.920903</td>\n",
       "      <td>-271.454162</td>\n",
       "      <td>-271.454162</td>\n",
       "      <td>-271.454162</td>\n",
       "      <td>-69.466741</td>\n",
       "      <td>-69.466741</td>\n",
       "      <td>-69.466741</td>\n",
       "      <td>0.0</td>\n",
       "      <td>0.0</td>\n",
       "      <td>0.0</td>\n",
       "      <td>499.076480</td>\n",
       "    </tr>\n",
       "    <tr>\n",
       "      <th>4</th>\n",
       "      <td>2010-09-05</td>\n",
       "      <td>839.975682</td>\n",
       "      <td>-2134.763544</td>\n",
       "      <td>2860.479083</td>\n",
       "      <td>839.975682</td>\n",
       "      <td>839.975682</td>\n",
       "      <td>-430.817505</td>\n",
       "      <td>-430.817505</td>\n",
       "      <td>-430.817505</td>\n",
       "      <td>-342.743011</td>\n",
       "      <td>-342.743011</td>\n",
       "      <td>-342.743011</td>\n",
       "      <td>-88.074494</td>\n",
       "      <td>-88.074494</td>\n",
       "      <td>-88.074494</td>\n",
       "      <td>0.0</td>\n",
       "      <td>0.0</td>\n",
       "      <td>0.0</td>\n",
       "      <td>409.158177</td>\n",
       "    </tr>\n",
       "  </tbody>\n",
       "</table>\n",
       "</div>"
      ],
      "text/plain": [
       "          ds       trend   yhat_lower   yhat_upper  trend_lower  trend_upper  \\\n",
       "0 2010-09-01  840.062483 -1631.841082  3357.020541   840.062483   840.062483   \n",
       "1 2010-09-02  840.040783 -1222.310861  3454.120388   840.040783   840.040783   \n",
       "2 2010-09-03  840.019083 -1486.393595  3424.890350   840.019083   840.019083   \n",
       "3 2010-09-04  839.997383 -1947.674673  2876.454123   839.997383   839.997383   \n",
       "4 2010-09-05  839.975682 -2134.763544  2860.479083   839.975682   839.975682   \n",
       "\n",
       "   additive_terms  additive_terms_lower  additive_terms_upper      weekly  \\\n",
       "0      143.884000            143.884000            143.884000  159.373437   \n",
       "1      224.272698            224.272698            224.272698  257.126848   \n",
       "2       -0.678461             -0.678461             -0.678461   50.279546   \n",
       "3     -340.920903           -340.920903           -340.920903 -271.454162   \n",
       "4     -430.817505           -430.817505           -430.817505 -342.743011   \n",
       "\n",
       "   weekly_lower  weekly_upper     yearly  yearly_lower  yearly_upper  \\\n",
       "0    159.373437    159.373437 -15.489437    -15.489437    -15.489437   \n",
       "1    257.126848    257.126848 -32.854150    -32.854150    -32.854150   \n",
       "2     50.279546     50.279546 -50.958007    -50.958007    -50.958007   \n",
       "3   -271.454162   -271.454162 -69.466741    -69.466741    -69.466741   \n",
       "4   -342.743011   -342.743011 -88.074494    -88.074494    -88.074494   \n",
       "\n",
       "   multiplicative_terms  multiplicative_terms_lower  \\\n",
       "0                   0.0                         0.0   \n",
       "1                   0.0                         0.0   \n",
       "2                   0.0                         0.0   \n",
       "3                   0.0                         0.0   \n",
       "4                   0.0                         0.0   \n",
       "\n",
       "   multiplicative_terms_upper         yhat  \n",
       "0                         0.0   983.946484  \n",
       "1                         0.0  1064.313481  \n",
       "2                         0.0   839.340621  \n",
       "3                         0.0   499.076480  \n",
       "4                         0.0   409.158177  "
      ]
     },
     "execution_count": 115,
     "metadata": {},
     "output_type": "execute_result"
    }
   ],
   "source": [
    "#predict for the next 10 months\n",
    "future = m.make_future_dataframe(periods=1077, freq='D')\n",
    "forecast = m.predict(future)\n",
    "forecast.head()"
   ]
  },
  {
   "cell_type": "code",
   "execution_count": 116,
   "id": "99afdc77",
   "metadata": {
    "ExecuteTime": {
     "end_time": "2022-04-05T09:59:04.583508Z",
     "start_time": "2022-04-05T09:59:04.324569Z"
    }
   },
   "outputs": [
    {
     "data": {
      "image/png": "[encoded data removed]",
      "text/plain": [
       "<Figure size 720x432 with 1 Axes>"
      ]
     },
     "metadata": {},
     "output_type": "display_data"
    }
   ],
   "source": [
    "forecast[['ds', 'yhat', 'yhat_lower', 'yhat_upper', 'trend', 'trend_lower', 'trend_upper']]\n",
    "#yhat is the prediction while yhat_lower and yhat_upper are the upper and lower boundaries\n",
    "\n",
    "m.plot(forecast)\n",
    "plt.show()"
   ]
  },
  {
   "cell_type": "code",
   "execution_count": 117,
   "id": "a714a800",
   "metadata": {
    "ExecuteTime": {
     "end_time": "2022-04-05T09:59:25.017484Z",
     "start_time": "2022-04-05T09:59:25.005547Z"
    }
   },
   "outputs": [
    {
     "data": {
      "text/html": [
       "<div>\n",
       "<style scoped>\n",
       "    .dataframe tbody tr th:only-of-type {\n",
       "        vertical-align: middle;\n",
       "    }\n",
       "\n",
       "    .dataframe tbody tr th {\n",
       "        vertical-align: top;\n",
       "    }\n",
       "\n",
       "    .dataframe thead th {\n",
       "        text-align: right;\n",
       "    }\n",
       "</style>\n",
       "<table border=\"1\" class=\"dataframe\">\n",
       "  <thead>\n",
       "    <tr style=\"text-align: right;\">\n",
       "      <th></th>\n",
       "      <th>ds</th>\n",
       "      <th>yhat</th>\n",
       "      <th>yhat_lower</th>\n",
       "      <th>yhat_upper</th>\n",
       "    </tr>\n",
       "  </thead>\n",
       "  <tbody>\n",
       "    <tr>\n",
       "      <th>0</th>\n",
       "      <td>2010-09-01</td>\n",
       "      <td>983.946484</td>\n",
       "      <td>-1631.841082</td>\n",
       "      <td>3357.020541</td>\n",
       "    </tr>\n",
       "    <tr>\n",
       "      <th>1</th>\n",
       "      <td>2010-09-02</td>\n",
       "      <td>1064.313481</td>\n",
       "      <td>-1222.310861</td>\n",
       "      <td>3454.120388</td>\n",
       "    </tr>\n",
       "    <tr>\n",
       "      <th>2</th>\n",
       "      <td>2010-09-03</td>\n",
       "      <td>839.340621</td>\n",
       "      <td>-1486.393595</td>\n",
       "      <td>3424.890350</td>\n",
       "    </tr>\n",
       "    <tr>\n",
       "      <th>3</th>\n",
       "      <td>2010-09-04</td>\n",
       "      <td>499.076480</td>\n",
       "      <td>-1947.674673</td>\n",
       "      <td>2876.454123</td>\n",
       "    </tr>\n",
       "    <tr>\n",
       "      <th>4</th>\n",
       "      <td>2010-09-05</td>\n",
       "      <td>409.158177</td>\n",
       "      <td>-2134.763544</td>\n",
       "      <td>2860.479083</td>\n",
       "    </tr>\n",
       "  </tbody>\n",
       "</table>\n",
       "</div>"
      ],
      "text/plain": [
       "          ds         yhat   yhat_lower   yhat_upper\n",
       "0 2010-09-01   983.946484 -1631.841082  3357.020541\n",
       "1 2010-09-02  1064.313481 -1222.310861  3454.120388\n",
       "2 2010-09-03   839.340621 -1486.393595  3424.890350\n",
       "3 2010-09-04   499.076480 -1947.674673  2876.454123\n",
       "4 2010-09-05   409.158177 -2134.763544  2860.479083"
      ]
     },
     "execution_count": 117,
     "metadata": {},
     "output_type": "execute_result"
    }
   ],
   "source": [
    "forecast[['ds', 'yhat', 'yhat_lower', 'yhat_upper']].head()"
   ]
  },
  {
   "cell_type": "code",
   "execution_count": null,
   "id": "c46cbec6",
   "metadata": {
    "ExecuteTime": {
     "end_time": "2022-04-05T09:31:10.627217Z",
     "start_time": "2022-04-05T09:31:09.690218Z"
    }
   },
   "outputs": [],
   "source": [
    "m.plot_components(forecast)"
   ]
  },
  {
   "cell_type": "code",
   "execution_count": null,
   "id": "0e6bfd54",
   "metadata": {
    "ExecuteTime": {
     "end_time": "2022-04-05T09:32:38.844371Z",
     "start_time": "2022-04-05T09:32:37.949985Z"
    }
   },
   "outputs": [],
   "source": [
    "from prophet.plot import plot_plotly, plot_components_plotly\n",
    "\n",
    "plot_plotly(m, forecast)"
   ]
  },
  {
   "cell_type": "code",
   "execution_count": 222,
   "id": "64e10d90",
   "metadata": {
    "ExecuteTime": {
     "end_time": "2022-04-05T11:38:53.758479Z",
     "start_time": "2022-04-05T11:38:53.740529Z"
    }
   },
   "outputs": [],
   "source": [
    "def mean_absolute_percentage_error(y_true, y_pred): \n",
    "    y_true, y_pred = np.array(y_true), np.array(y_pred)\n",
    "    return np.mean(np.abs((y_true - y_pred) / y_true)) * 100"
   ]
  },
  {
   "cell_type": "code",
   "execution_count": 224,
   "id": "27b8cdb5",
   "metadata": {
    "ExecuteTime": {
     "end_time": "2022-04-05T11:39:16.316561Z",
     "start_time": "2022-04-05T11:39:16.310578Z"
    }
   },
   "outputs": [
    {
     "data": {
      "text/plain": [
       "546.82"
      ]
     },
     "execution_count": 224,
     "metadata": {},
     "output_type": "execute_result"
    }
   ],
   "source": [
    "# MAPE Value\n",
    "round(mean_absolute_percentage_error(df1_daily_test['y'], forecast['yhat'][-1077:]),2)"
   ]
  },
  {
   "cell_type": "code",
   "execution_count": 225,
   "id": "079ee98b",
   "metadata": {
    "ExecuteTime": {
     "end_time": "2022-04-05T11:39:54.823533Z",
     "start_time": "2022-04-05T11:39:54.803588Z"
    }
   },
   "outputs": [
    {
     "name": "stdout",
     "output_type": "stream",
     "text": [
      "3212.28\n"
     ]
    }
   ],
   "source": [
    "# RMSE Calculation\n",
    "from sklearn.metrics import mean_squared_error\n",
    "from math import sqrt\n",
    "\n",
    "rmse = sqrt(mean_squared_error(df1_daily_test['y'], forecast['yhat'][-1077:]))\n",
    "print(round(rmse,2))"
   ]
  },
  {
   "cell_type": "code",
   "execution_count": 176,
   "id": "364a3d5e",
   "metadata": {
    "ExecuteTime": {
     "end_time": "2022-04-05T10:28:51.045947Z",
     "start_time": "2022-04-05T10:28:51.032010Z"
    }
   },
   "outputs": [
    {
     "data": {
      "text/html": [
       "<div>\n",
       "<style scoped>\n",
       "    .dataframe tbody tr th:only-of-type {\n",
       "        vertical-align: middle;\n",
       "    }\n",
       "\n",
       "    .dataframe tbody tr th {\n",
       "        vertical-align: top;\n",
       "    }\n",
       "\n",
       "    .dataframe thead th {\n",
       "        text-align: right;\n",
       "    }\n",
       "</style>\n",
       "<table border=\"1\" class=\"dataframe\">\n",
       "  <thead>\n",
       "    <tr style=\"text-align: right;\">\n",
       "      <th></th>\n",
       "      <th>FullDate</th>\n",
       "      <th>Tmax</th>\n",
       "      <th>SysLoad</th>\n",
       "      <th>GasPrice</th>\n",
       "      <th>ElecPrice</th>\n",
       "    </tr>\n",
       "  </thead>\n",
       "  <tbody>\n",
       "    <tr>\n",
       "      <th>0</th>\n",
       "      <td>2010-09-01 00:00:00</td>\n",
       "      <td>15.8</td>\n",
       "      <td>1688.215</td>\n",
       "      <td>3.69</td>\n",
       "      <td>23.710</td>\n",
       "    </tr>\n",
       "    <tr>\n",
       "      <th>1</th>\n",
       "      <td>2010-09-01 01:00:00</td>\n",
       "      <td>15.8</td>\n",
       "      <td>1669.195</td>\n",
       "      <td>3.69</td>\n",
       "      <td>22.635</td>\n",
       "    </tr>\n",
       "    <tr>\n",
       "      <th>2</th>\n",
       "      <td>2010-09-01 02:00:00</td>\n",
       "      <td>15.8</td>\n",
       "      <td>1491.980</td>\n",
       "      <td>3.69</td>\n",
       "      <td>22.565</td>\n",
       "    </tr>\n",
       "    <tr>\n",
       "      <th>3</th>\n",
       "      <td>2010-09-01 03:00:00</td>\n",
       "      <td>15.8</td>\n",
       "      <td>1330.760</td>\n",
       "      <td>3.69</td>\n",
       "      <td>18.910</td>\n",
       "    </tr>\n",
       "    <tr>\n",
       "      <th>4</th>\n",
       "      <td>2010-09-01 04:00:00</td>\n",
       "      <td>15.8</td>\n",
       "      <td>1247.940</td>\n",
       "      <td>3.69</td>\n",
       "      <td>18.030</td>\n",
       "    </tr>\n",
       "  </tbody>\n",
       "</table>\n",
       "</div>"
      ],
      "text/plain": [
       "             FullDate  Tmax   SysLoad  GasPrice  ElecPrice\n",
       "0 2010-09-01 00:00:00  15.8  1688.215      3.69     23.710\n",
       "1 2010-09-01 01:00:00  15.8  1669.195      3.69     22.635\n",
       "2 2010-09-01 02:00:00  15.8  1491.980      3.69     22.565\n",
       "3 2010-09-01 03:00:00  15.8  1330.760      3.69     18.910\n",
       "4 2010-09-01 04:00:00  15.8  1247.940      3.69     18.030"
      ]
     },
     "execution_count": 176,
     "metadata": {},
     "output_type": "execute_result"
    }
   ],
   "source": [
    "df.head()"
   ]
  },
  {
   "cell_type": "code",
   "execution_count": 180,
   "id": "3b420796",
   "metadata": {
    "ExecuteTime": {
     "end_time": "2022-04-05T10:30:02.030916Z",
     "start_time": "2022-04-05T10:30:02.013964Z"
    }
   },
   "outputs": [],
   "source": [
    "df.set_index(df.FullDate, inplace = True)"
   ]
  },
  {
   "cell_type": "code",
   "execution_count": 181,
   "id": "89d31ec5",
   "metadata": {
    "ExecuteTime": {
     "end_time": "2022-04-05T10:30:02.799909Z",
     "start_time": "2022-04-05T10:30:02.787942Z"
    }
   },
   "outputs": [
    {
     "data": {
      "text/html": [
       "<div>\n",
       "<style scoped>\n",
       "    .dataframe tbody tr th:only-of-type {\n",
       "        vertical-align: middle;\n",
       "    }\n",
       "\n",
       "    .dataframe tbody tr th {\n",
       "        vertical-align: top;\n",
       "    }\n",
       "\n",
       "    .dataframe thead th {\n",
       "        text-align: right;\n",
       "    }\n",
       "</style>\n",
       "<table border=\"1\" class=\"dataframe\">\n",
       "  <thead>\n",
       "    <tr style=\"text-align: right;\">\n",
       "      <th></th>\n",
       "      <th>FullDate</th>\n",
       "      <th>Tmax</th>\n",
       "      <th>SysLoad</th>\n",
       "      <th>GasPrice</th>\n",
       "      <th>ElecPrice</th>\n",
       "    </tr>\n",
       "    <tr>\n",
       "      <th>FullDate</th>\n",
       "      <th></th>\n",
       "      <th></th>\n",
       "      <th></th>\n",
       "      <th></th>\n",
       "      <th></th>\n",
       "    </tr>\n",
       "  </thead>\n",
       "  <tbody>\n",
       "    <tr>\n",
       "      <th>2010-09-01 00:00:00</th>\n",
       "      <td>2010-09-01 00:00:00</td>\n",
       "      <td>15.8</td>\n",
       "      <td>1688.215</td>\n",
       "      <td>3.69</td>\n",
       "      <td>23.710</td>\n",
       "    </tr>\n",
       "    <tr>\n",
       "      <th>2010-09-01 01:00:00</th>\n",
       "      <td>2010-09-01 01:00:00</td>\n",
       "      <td>15.8</td>\n",
       "      <td>1669.195</td>\n",
       "      <td>3.69</td>\n",
       "      <td>22.635</td>\n",
       "    </tr>\n",
       "    <tr>\n",
       "      <th>2010-09-01 02:00:00</th>\n",
       "      <td>2010-09-01 02:00:00</td>\n",
       "      <td>15.8</td>\n",
       "      <td>1491.980</td>\n",
       "      <td>3.69</td>\n",
       "      <td>22.565</td>\n",
       "    </tr>\n",
       "    <tr>\n",
       "      <th>2010-09-01 03:00:00</th>\n",
       "      <td>2010-09-01 03:00:00</td>\n",
       "      <td>15.8</td>\n",
       "      <td>1330.760</td>\n",
       "      <td>3.69</td>\n",
       "      <td>18.910</td>\n",
       "    </tr>\n",
       "    <tr>\n",
       "      <th>2010-09-01 04:00:00</th>\n",
       "      <td>2010-09-01 04:00:00</td>\n",
       "      <td>15.8</td>\n",
       "      <td>1247.940</td>\n",
       "      <td>3.69</td>\n",
       "      <td>18.030</td>\n",
       "    </tr>\n",
       "  </tbody>\n",
       "</table>\n",
       "</div>"
      ],
      "text/plain": [
       "                               FullDate  Tmax   SysLoad  GasPrice  ElecPrice\n",
       "FullDate                                                                    \n",
       "2010-09-01 00:00:00 2010-09-01 00:00:00  15.8  1688.215      3.69     23.710\n",
       "2010-09-01 01:00:00 2010-09-01 01:00:00  15.8  1669.195      3.69     22.635\n",
       "2010-09-01 02:00:00 2010-09-01 02:00:00  15.8  1491.980      3.69     22.565\n",
       "2010-09-01 03:00:00 2010-09-01 03:00:00  15.8  1330.760      3.69     18.910\n",
       "2010-09-01 04:00:00 2010-09-01 04:00:00  15.8  1247.940      3.69     18.030"
      ]
     },
     "execution_count": 181,
     "metadata": {},
     "output_type": "execute_result"
    }
   ],
   "source": [
    "df.head()"
   ]
  },
  {
   "cell_type": "code",
   "execution_count": 182,
   "id": "61f754d1",
   "metadata": {
    "ExecuteTime": {
     "end_time": "2022-04-05T10:30:07.800671Z",
     "start_time": "2022-04-05T10:30:07.781700Z"
    }
   },
   "outputs": [],
   "source": [
    "df_daily = df.resample('D').sum()"
   ]
  },
  {
   "cell_type": "code",
   "execution_count": 183,
   "id": "1a0c3774",
   "metadata": {
    "ExecuteTime": {
     "end_time": "2022-04-05T10:30:15.506379Z",
     "start_time": "2022-04-05T10:30:15.489426Z"
    }
   },
   "outputs": [],
   "source": [
    "df_daily = df_daily.reset_index()"
   ]
  },
  {
   "cell_type": "code",
   "execution_count": 184,
   "id": "aa31574c",
   "metadata": {
    "ExecuteTime": {
     "end_time": "2022-04-05T10:30:23.374739Z",
     "start_time": "2022-04-05T10:30:23.350781Z"
    }
   },
   "outputs": [
    {
     "data": {
      "text/html": [
       "<div>\n",
       "<style scoped>\n",
       "    .dataframe tbody tr th:only-of-type {\n",
       "        vertical-align: middle;\n",
       "    }\n",
       "\n",
       "    .dataframe tbody tr th {\n",
       "        vertical-align: top;\n",
       "    }\n",
       "\n",
       "    .dataframe thead th {\n",
       "        text-align: right;\n",
       "    }\n",
       "</style>\n",
       "<table border=\"1\" class=\"dataframe\">\n",
       "  <thead>\n",
       "    <tr style=\"text-align: right;\">\n",
       "      <th></th>\n",
       "      <th>FullDate</th>\n",
       "      <th>Tmax</th>\n",
       "      <th>SysLoad</th>\n",
       "      <th>GasPrice</th>\n",
       "      <th>ElecPrice</th>\n",
       "    </tr>\n",
       "  </thead>\n",
       "  <tbody>\n",
       "    <tr>\n",
       "      <th>0</th>\n",
       "      <td>2010-09-01</td>\n",
       "      <td>379.2</td>\n",
       "      <td>41565.38000</td>\n",
       "      <td>88.5600</td>\n",
       "      <td>2751.700</td>\n",
       "    </tr>\n",
       "    <tr>\n",
       "      <th>1</th>\n",
       "      <td>2010-09-02</td>\n",
       "      <td>369.6</td>\n",
       "      <td>38898.99000</td>\n",
       "      <td>88.5600</td>\n",
       "      <td>570.810</td>\n",
       "    </tr>\n",
       "    <tr>\n",
       "      <th>2</th>\n",
       "      <td>2010-09-03</td>\n",
       "      <td>439.2</td>\n",
       "      <td>41665.76000</td>\n",
       "      <td>106.8000</td>\n",
       "      <td>504.975</td>\n",
       "    </tr>\n",
       "    <tr>\n",
       "      <th>3</th>\n",
       "      <td>2010-09-04</td>\n",
       "      <td>328.8</td>\n",
       "      <td>35638.08500</td>\n",
       "      <td>81.3600</td>\n",
       "      <td>502.275</td>\n",
       "    </tr>\n",
       "    <tr>\n",
       "      <th>4</th>\n",
       "      <td>2010-09-05</td>\n",
       "      <td>357.6</td>\n",
       "      <td>35611.41000</td>\n",
       "      <td>106.8000</td>\n",
       "      <td>500.555</td>\n",
       "    </tr>\n",
       "    <tr>\n",
       "      <th>...</th>\n",
       "      <td>...</td>\n",
       "      <td>...</td>\n",
       "      <td>...</td>\n",
       "      <td>...</td>\n",
       "      <td>...</td>\n",
       "    </tr>\n",
       "    <tr>\n",
       "      <th>3829</th>\n",
       "      <td>2021-02-24</td>\n",
       "      <td>537.6</td>\n",
       "      <td>-1525.49745</td>\n",
       "      <td>134.4000</td>\n",
       "      <td>634.770</td>\n",
       "    </tr>\n",
       "    <tr>\n",
       "      <th>3830</th>\n",
       "      <td>2021-02-25</td>\n",
       "      <td>518.4</td>\n",
       "      <td>4539.07855</td>\n",
       "      <td>130.5048</td>\n",
       "      <td>577.515</td>\n",
       "    </tr>\n",
       "    <tr>\n",
       "      <th>3831</th>\n",
       "      <td>2021-02-26</td>\n",
       "      <td>547.2</td>\n",
       "      <td>9517.02430</td>\n",
       "      <td>130.1808</td>\n",
       "      <td>1445.495</td>\n",
       "    </tr>\n",
       "    <tr>\n",
       "      <th>3832</th>\n",
       "      <td>2021-02-27</td>\n",
       "      <td>564.0</td>\n",
       "      <td>4932.88015</td>\n",
       "      <td>130.0800</td>\n",
       "      <td>488.980</td>\n",
       "    </tr>\n",
       "    <tr>\n",
       "      <th>3833</th>\n",
       "      <td>2021-02-28</td>\n",
       "      <td>583.2</td>\n",
       "      <td>6675.05485</td>\n",
       "      <td>131.6352</td>\n",
       "      <td>-98.985</td>\n",
       "    </tr>\n",
       "  </tbody>\n",
       "</table>\n",
       "<p>3834 rows × 5 columns</p>\n",
       "</div>"
      ],
      "text/plain": [
       "       FullDate   Tmax      SysLoad  GasPrice  ElecPrice\n",
       "0    2010-09-01  379.2  41565.38000   88.5600   2751.700\n",
       "1    2010-09-02  369.6  38898.99000   88.5600    570.810\n",
       "2    2010-09-03  439.2  41665.76000  106.8000    504.975\n",
       "3    2010-09-04  328.8  35638.08500   81.3600    502.275\n",
       "4    2010-09-05  357.6  35611.41000  106.8000    500.555\n",
       "...         ...    ...          ...       ...        ...\n",
       "3829 2021-02-24  537.6  -1525.49745  134.4000    634.770\n",
       "3830 2021-02-25  518.4   4539.07855  130.5048    577.515\n",
       "3831 2021-02-26  547.2   9517.02430  130.1808   1445.495\n",
       "3832 2021-02-27  564.0   4932.88015  130.0800    488.980\n",
       "3833 2021-02-28  583.2   6675.05485  131.6352    -98.985\n",
       "\n",
       "[3834 rows x 5 columns]"
      ]
     },
     "execution_count": 184,
     "metadata": {},
     "output_type": "execute_result"
    }
   ],
   "source": [
    "df_daily"
   ]
  },
  {
   "cell_type": "code",
   "execution_count": 185,
   "id": "0e6b4ab1",
   "metadata": {
    "ExecuteTime": {
     "end_time": "2022-04-05T10:30:37.968511Z",
     "start_time": "2022-04-05T10:30:37.959534Z"
    }
   },
   "outputs": [],
   "source": [
    "df_daily = df_daily.rename(columns={\"FullDate\": \"ds\" ,\"ElecPrice\": \"y\", \"SysLoad\": \"add1\", \"Tmax\": \"add2\",\"GasPrice\": \"add3\"})"
   ]
  },
  {
   "cell_type": "code",
   "execution_count": 186,
   "id": "5d187826",
   "metadata": {
    "ExecuteTime": {
     "end_time": "2022-04-05T10:30:40.453070Z",
     "start_time": "2022-04-05T10:30:40.434119Z"
    }
   },
   "outputs": [],
   "source": [
    "df_cutoff = 2757\n",
    "\n",
    "df_daily_train = df_daily.iloc[:df_cutoff]\n",
    "df_daily_test = df_daily.iloc[df_cutoff:]"
   ]
  },
  {
   "cell_type": "code",
   "execution_count": 189,
   "id": "69224828",
   "metadata": {
    "ExecuteTime": {
     "end_time": "2022-04-05T10:31:31.871785Z",
     "start_time": "2022-04-05T10:31:31.854830Z"
    }
   },
   "outputs": [
    {
     "name": "stdout",
     "output_type": "stream",
     "text": [
      "(2757, 5)\n"
     ]
    },
    {
     "data": {
      "text/plain": [
       "(1077, 5)"
      ]
     },
     "execution_count": 189,
     "metadata": {},
     "output_type": "execute_result"
    }
   ],
   "source": [
    "print(df_daily_train.shape)\n",
    "df_daily_test.shape"
   ]
  },
  {
   "cell_type": "code",
   "execution_count": 190,
   "id": "2a3aed7e",
   "metadata": {
    "ExecuteTime": {
     "end_time": "2022-04-05T10:32:10.154792Z",
     "start_time": "2022-04-05T10:32:10.131851Z"
    }
   },
   "outputs": [
    {
     "data": {
      "text/html": [
       "<div>\n",
       "<style scoped>\n",
       "    .dataframe tbody tr th:only-of-type {\n",
       "        vertical-align: middle;\n",
       "    }\n",
       "\n",
       "    .dataframe tbody tr th {\n",
       "        vertical-align: top;\n",
       "    }\n",
       "\n",
       "    .dataframe thead th {\n",
       "        text-align: right;\n",
       "    }\n",
       "</style>\n",
       "<table border=\"1\" class=\"dataframe\">\n",
       "  <thead>\n",
       "    <tr style=\"text-align: right;\">\n",
       "      <th></th>\n",
       "      <th>ds</th>\n",
       "      <th>add2</th>\n",
       "      <th>add1</th>\n",
       "      <th>add3</th>\n",
       "      <th>y</th>\n",
       "    </tr>\n",
       "  </thead>\n",
       "  <tbody>\n",
       "    <tr>\n",
       "      <th>0</th>\n",
       "      <td>2010-09-01</td>\n",
       "      <td>379.2</td>\n",
       "      <td>41565.380</td>\n",
       "      <td>88.56</td>\n",
       "      <td>2751.700</td>\n",
       "    </tr>\n",
       "    <tr>\n",
       "      <th>1</th>\n",
       "      <td>2010-09-02</td>\n",
       "      <td>369.6</td>\n",
       "      <td>38898.990</td>\n",
       "      <td>88.56</td>\n",
       "      <td>570.810</td>\n",
       "    </tr>\n",
       "    <tr>\n",
       "      <th>2</th>\n",
       "      <td>2010-09-03</td>\n",
       "      <td>439.2</td>\n",
       "      <td>41665.760</td>\n",
       "      <td>106.80</td>\n",
       "      <td>504.975</td>\n",
       "    </tr>\n",
       "    <tr>\n",
       "      <th>3</th>\n",
       "      <td>2010-09-04</td>\n",
       "      <td>328.8</td>\n",
       "      <td>35638.085</td>\n",
       "      <td>81.36</td>\n",
       "      <td>502.275</td>\n",
       "    </tr>\n",
       "    <tr>\n",
       "      <th>4</th>\n",
       "      <td>2010-09-05</td>\n",
       "      <td>357.6</td>\n",
       "      <td>35611.410</td>\n",
       "      <td>106.80</td>\n",
       "      <td>500.555</td>\n",
       "    </tr>\n",
       "  </tbody>\n",
       "</table>\n",
       "</div>"
      ],
      "text/plain": [
       "          ds   add2       add1    add3         y\n",
       "0 2010-09-01  379.2  41565.380   88.56  2751.700\n",
       "1 2010-09-02  369.6  38898.990   88.56   570.810\n",
       "2 2010-09-03  439.2  41665.760  106.80   504.975\n",
       "3 2010-09-04  328.8  35638.085   81.36   502.275\n",
       "4 2010-09-05  357.6  35611.410  106.80   500.555"
      ]
     },
     "execution_count": 190,
     "metadata": {},
     "output_type": "execute_result"
    }
   ],
   "source": [
    "df_daily_train.head()"
   ]
  },
  {
   "cell_type": "code",
   "execution_count": 243,
   "id": "86aab4f1",
   "metadata": {
    "ExecuteTime": {
     "end_time": "2022-04-05T12:10:17.972665Z",
     "start_time": "2022-04-05T12:10:17.949725Z"
    }
   },
   "outputs": [
    {
     "data": {
      "text/plain": [
       "<prophet.forecaster.Prophet at 0x1b27fe83e80>"
      ]
     },
     "execution_count": 243,
     "metadata": {},
     "output_type": "execute_result"
    }
   ],
   "source": [
    "# Building Model - Prophet & Adding regressors\n",
    "model = Prophet()\n",
    "model.add_regressor('add1')\n",
    "model.add_regressor('add2')\n",
    "model.add_regressor('add3')"
   ]
  },
  {
   "cell_type": "code",
   "execution_count": 244,
   "id": "847a49d7",
   "metadata": {
    "ExecuteTime": {
     "end_time": "2022-04-05T12:10:23.350609Z",
     "start_time": "2022-04-05T12:10:19.776799Z"
    }
   },
   "outputs": [
    {
     "name": "stderr",
     "output_type": "stream",
     "text": [
      "INFO:prophet:Disabling daily seasonality. Run prophet with daily_seasonality=True to override this.\n",
      "C:\\Users\\User\\anaconda3\\lib\\site-packages\\prophet\\forecaster.py:896: FutureWarning:\n",
      "\n",
      "The frame.append method is deprecated and will be removed from pandas in a future version. Use pandas.concat instead.\n",
      "\n"
     ]
    },
    {
     "data": {
      "text/plain": [
       "<prophet.forecaster.Prophet at 0x1b27fe83e80>"
      ]
     },
     "execution_count": 244,
     "metadata": {},
     "output_type": "execute_result"
    }
   ],
   "source": [
    "model.fit(df_daily_train)"
   ]
  },
  {
   "cell_type": "code",
   "execution_count": 250,
   "id": "a3cbc8fe",
   "metadata": {
    "ExecuteTime": {
     "end_time": "2022-04-05T12:10:55.774471Z",
     "start_time": "2022-04-05T12:10:46.576062Z"
    }
   },
   "outputs": [
    {
     "name": "stderr",
     "output_type": "stream",
     "text": [
      "C:\\Users\\User\\anaconda3\\lib\\site-packages\\prophet\\forecaster.py:896: FutureWarning:\n",
      "\n",
      "The frame.append method is deprecated and will be removed from pandas in a future version. Use pandas.concat instead.\n",
      "\n",
      "C:\\Users\\User\\anaconda3\\lib\\site-packages\\prophet\\forecaster.py:896: FutureWarning:\n",
      "\n",
      "The frame.append method is deprecated and will be removed from pandas in a future version. Use pandas.concat instead.\n",
      "\n"
     ]
    }
   ],
   "source": [
    "future_points = model.make_future_dataframe(periods=1077,freq='M')\n",
    "future_points['add1'] = df_daily['add1'].values\n",
    "future_points['add2'] = df_daily['add2'].values\n",
    "future_points['add3'] = df_daily['add3'].values\n",
    "\n",
    "predict = model.predict(future_points)"
   ]
  },
  {
   "cell_type": "code",
   "execution_count": 251,
   "id": "ed7bfc00",
   "metadata": {
    "ExecuteTime": {
     "end_time": "2022-04-05T12:10:56.075664Z",
     "start_time": "2022-04-05T12:10:55.777495Z"
    }
   },
   "outputs": [
    {
     "data": {
      "image/png": "[encoded data removed]",
      "text/plain": [
       "<Figure size 720x432 with 1 Axes>"
      ]
     },
     "metadata": {},
     "output_type": "display_data"
    }
   ],
   "source": [
    "model.plot(predict)\n",
    "plt.show()"
   ]
  },
  {
   "cell_type": "code",
   "execution_count": 252,
   "id": "a791518a",
   "metadata": {
    "ExecuteTime": {
     "end_time": "2022-04-05T12:10:56.090626Z",
     "start_time": "2022-04-05T12:10:56.078657Z"
    }
   },
   "outputs": [
    {
     "data": {
      "text/plain": [
       "(3834, 31)"
      ]
     },
     "execution_count": 252,
     "metadata": {},
     "output_type": "execute_result"
    }
   ],
   "source": [
    "predict.shape"
   ]
  },
  {
   "cell_type": "code",
   "execution_count": 253,
   "id": "a5bd01d8",
   "metadata": {
    "ExecuteTime": {
     "end_time": "2022-04-05T12:10:56.106588Z",
     "start_time": "2022-04-05T12:10:56.094616Z"
    }
   },
   "outputs": [
    {
     "data": {
      "text/plain": [
       "3432.9913084685636"
      ]
     },
     "execution_count": 253,
     "metadata": {},
     "output_type": "execute_result"
    }
   ],
   "source": [
    "# MAPE\n",
    "mean_absolute_percentage_error( df_daily_test['y'][-df_cutoff:], predict['yhat'][df_cutoff:])"
   ]
  },
  {
   "cell_type": "code",
   "execution_count": 254,
   "id": "c5605404",
   "metadata": {
    "ExecuteTime": {
     "end_time": "2022-04-05T12:11:02.045272Z",
     "start_time": "2022-04-05T12:11:02.027288Z"
    }
   },
   "outputs": [
    {
     "name": "stdout",
     "output_type": "stream",
     "text": [
      "13581.71321116561\n"
     ]
    }
   ],
   "source": [
    "# RMSE\n",
    "rmse_2 = sqrt(mean_squared_error( df_daily_test['y'][-df_cutoff:], predict['yhat'][df_cutoff:]))\n",
    "print(rmse_2)"
   ]
  },
  {
   "cell_type": "code",
   "execution_count": 255,
   "id": "c341b723",
   "metadata": {
    "ExecuteTime": {
     "end_time": "2022-04-05T12:11:20.594508Z",
     "start_time": "2022-04-05T12:11:07.041740Z"
    }
   },
   "outputs": [
    {
     "name": "stdout",
     "output_type": "stream",
     "text": [
      "ADF Statistic: -31.95297569955783\n",
      "p-value: 0.0\n",
      "No. of lags used: 53\n",
      "No. of observations used : 91962\n",
      "Critical Values:\n",
      "   1%: -3.430421110703783\n",
      "   5%: -2.8615714297867108\n",
      "   10%: -2.56678672898094\n"
     ]
    }
   ],
   "source": [
    "from statsmodels.tsa.stattools import adfuller\n",
    "adf_result = adfuller(df1['ElecPrice']) \n",
    "print(f'ADF Statistic: {adf_result[0]}') \n",
    "print(f'p-value: {adf_result[1]}') \n",
    "print(f'No. of lags used: {adf_result[2]}')\n",
    "print(f'No. of observations used : {adf_result[3]}')\n",
    "print('Critical Values:')\n",
    "for k, v in adf_result[4].items():\n",
    "    print(f'   {k}: {v}')"
   ]
  },
  {
   "cell_type": "code",
   "execution_count": 235,
   "id": "e4b0adb2",
   "metadata": {
    "ExecuteTime": {
     "end_time": "2022-04-05T12:00:09.075752Z",
     "start_time": "2022-04-05T12:00:08.821901Z"
    }
   },
   "outputs": [
    {
     "data": {
      "image/png": "[encoded data removed]",
      "text/plain": [
       "<Figure size 432x288 with 1 Axes>"
      ]
     },
     "metadata": {
      "needs_background": "light"
     },
     "output_type": "display_data"
    }
   ],
   "source": [
    "plt.plot(predict);"
   ]
  },
  {
   "cell_type": "code",
   "execution_count": null,
   "id": "a8845a01",
   "metadata": {},
   "outputs": [],
   "source": []
  }
 ],
 "metadata": {
  "kernelspec": {
   "display_name": "Python 3 (ipykernel)",
   "language": "python",
   "name": "python3"
  },
  "language_info": {
   "codemirror_mode": {
    "name": "ipython",
    "version": 3
   },
   "file_extension": ".py",
   "mimetype": "text/x-python",
   "name": "python",
   "nbconvert_exporter": "python",
   "pygments_lexer": "ipython3",
   "version": "3.9.7"
  },
  "toc": {
   "base_numbering": 1,
   "nav_menu": {},
   "number_sections": true,
   "sideBar": true,
   "skip_h1_title": false,
   "title_cell": "Table of Contents",
   "title_sidebar": "Contents",
   "toc_cell": false,
   "toc_position": {},
   "toc_section_display": true,
   "toc_window_display": false
  }
 },
 "nbformat": 4,
 "nbformat_minor": 5
}
